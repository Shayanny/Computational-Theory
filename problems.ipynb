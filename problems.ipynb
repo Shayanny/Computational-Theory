{
 "cells": [
  {
   "cell_type": "markdown",
   "id": "0bd69689",
   "metadata": {},
   "source": [
    "# Computational Theory"
   ]
  },
  {
   "cell_type": "code",
   "execution_count": 9,
   "id": "819cd284",
   "metadata": {},
   "outputs": [],
   "source": [
    "import numpy as np"
   ]
  },
  {
   "cell_type": "markdown",
   "id": "36d4eb59",
   "metadata": {},
   "source": [
    "## Problem 1: Binary Words and Operations"
   ]
  },
  {
   "cell_type": "markdown",
   "id": "a977daa6",
   "metadata": {},
   "source": [
    "### Parity Function\n",
    "\n",
    "\"\"\" \n",
    "\n",
    "\"\"\""
   ]
  },
  {
   "cell_type": "code",
   "execution_count": null,
   "id": "621727a5",
   "metadata": {},
   "outputs": [],
   "source": [
    "def Parity(x, y, z):\n",
    "    \"\"\"Return the bitwise parity (XOR) of three 32-bit integers.\"\"\"\n",
    "    # The numpy.int32 type ensures that the inputs are treated as 32-bit integers.\n",
    "    # This is important because Python's default int type can be of arbitrary precision.\n",
    "    # SHA-256 , SHA-1 and SHA-224 all specifically require 32-bit words.\n",
    "    # See : https://numpy.org/doc/stable/reference/arrays.scalars.html#numpy.int32\n",
    "    x = np.int32(x)\n",
    "    y = np.int32(y)\n",
    "    z = np.int32(z)\n",
    "    return np.uint32(x ^ y ^ z)\n"
   ]
  },
  {
   "cell_type": "code",
   "execution_count": null,
   "id": "ca80448b",
   "metadata": {},
   "outputs": [],
   "source": [
    "def Ch(x,y,z):\n",
    "    \"\"\"Returns the bitwise choice function result for three 32-bit integers.\n",
    "\n",
    "    \"\"\"\n",
    "    x = np.int32(x)\n",
    "    y = np.int32(y)\n",
    "    z = np.int32(z)\n",
    "    return np.uint32((x & y) ^ (~x & z))\n"
   ]
  },
  {
   "cell_type": "code",
   "execution_count": 3,
   "id": "a2d412aa",
   "metadata": {},
   "outputs": [],
   "source": [
    "def Maj(x,y,z):\n",
    "    \"\"\"Return the bitwise majority function result for three 32-bit integers.\"\"\"\n",
    "    x = np.int32(x)\n",
    "    y = np.int32(y)\n",
    "    z = np.int32(z)\n",
    "    return np.uint32((x & y) ^ (x & z) ^ (y & z))"
   ]
  },
  {
   "cell_type": "code",
   "execution_count": 4,
   "id": "68edd9d2",
   "metadata": {},
   "outputs": [],
   "source": [
    "def Sigma0(x):\n",
    "    \"\"\"Return the Sigma0 function used in SHA-256 for a 32-bit integer.\"\"\"\n",
    "    x = np.int32(x)\n",
    "    return np.uint32((x >> 2) ^ (x >> 13) ^ (x >> 22))\n",
    "\n"
   ]
  },
  {
   "cell_type": "code",
   "execution_count": 5,
   "id": "fe7af9ae",
   "metadata": {},
   "outputs": [],
   "source": [
    "def Sigma1(x):\n",
    "    \"\"\"Return the Sigma1 function used in SHA-256 for a 32-bit integer.\"\"\"\n",
    "    x = np.int32(x)\n",
    "    return np.uint32((x >> 6) ^ (x >> 11) ^ (x >> 25))\n"
   ]
  },
  {
   "cell_type": "code",
   "execution_count": 6,
   "id": "eaca08b8",
   "metadata": {},
   "outputs": [],
   "source": [
    "def sigma0(x):\n",
    "    \"\"\"Return the sigma0 function used in SHA-256 for a 32-bit integer.\"\"\"\n",
    "    x = np.int32(x)\n",
    "    return np.uint32((x >> 7) ^ (x >> 18) ^ (x >> 3))\n"
   ]
  },
  {
   "cell_type": "code",
   "execution_count": 7,
   "id": "3b639852",
   "metadata": {},
   "outputs": [],
   "source": [
    "def sigma1(x):\n",
    "    \"\"\"Return the sigma1 function used in SHA-256 for a 32-bit integer.\"\"\"\n",
    "    x = np.int32(x)\n",
    "    return np.uint32((x >> 17) ^ (x >> 19) ^ (x >> 10))\n"
   ]
  },
  {
   "cell_type": "code",
   "execution_count": null,
   "id": "f81a0104",
   "metadata": {},
   "outputs": [
    {
     "name": "stdout",
     "output_type": "stream",
     "text": [
      "15\n",
      "9\n",
      "8\n",
      "3\n",
      "0\n",
      "1\n",
      "0\n"
     ]
    }
   ],
   "source": [
    "\"\"\"Example usage of the functions.\"\"\"\n",
    "\n",
    "print(Parity(0b1100, 0b1010, 0b1001))  # Example usage\n",
    "print(Ch(0b1100, 0b1010, 0b1001))      # Example usage\n",
    "print(Maj(0b1100, 0b1010, 0b1001))     # Example usage\n",
    "print(Sigma0(0b1100))               # Example usage\n",
    "print(Sigma1(0b1100))               # Example usage\n",
    "print(sigma0(0b1100))               # Example usage\n",
    "print(sigma1(0b1100))               # Example usage"
   ]
  },
  {
   "cell_type": "markdown",
   "id": "dd0e0f66",
   "metadata": {},
   "source": [
    "## Problem 2: Fractional Parts of Cube Roots"
   ]
  },
  {
   "cell_type": "markdown",
   "id": "87e08ce1",
   "metadata": {},
   "source": [
    "## Problem 3: Padding"
   ]
  },
  {
   "cell_type": "markdown",
   "id": "e2b349b0",
   "metadata": {},
   "source": [
    "## Problem 4: Hashes"
   ]
  },
  {
   "cell_type": "markdown",
   "id": "419b3110",
   "metadata": {},
   "source": [
    "## Problem 5: Passwords"
   ]
  },
  {
   "cell_type": "markdown",
   "id": "25d27bf0",
   "metadata": {},
   "source": [
    "## End"
   ]
  }
 ],
 "metadata": {
  "kernelspec": {
   "display_name": "Python 3",
   "language": "python",
   "name": "python3"
  },
  "language_info": {
   "codemirror_mode": {
    "name": "ipython",
    "version": 3
   },
   "file_extension": ".py",
   "mimetype": "text/x-python",
   "name": "python",
   "nbconvert_exporter": "python",
   "pygments_lexer": "ipython3",
   "version": "3.12.1"
  }
 },
 "nbformat": 4,
 "nbformat_minor": 5
}
