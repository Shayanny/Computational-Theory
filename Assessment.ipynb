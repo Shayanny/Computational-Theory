{
 "cells": [
  {
   "cell_type": "markdown",
   "id": "0bd69689",
   "metadata": {},
   "source": [
    "# Computational Theory"
   ]
  },
  {
   "cell_type": "code",
   "execution_count": 1,
   "id": "819cd284",
   "metadata": {},
   "outputs": [],
   "source": [
    "import numpy as np"
   ]
  },
  {
   "cell_type": "markdown",
   "id": "36d4eb59",
   "metadata": {},
   "source": [
    "## Problem 1: Binary Words and Operations"
   ]
  },
  {
   "cell_type": "code",
   "execution_count": null,
   "id": "621727a5",
   "metadata": {},
   "outputs": [
    {
     "name": "stderr",
     "output_type": "stream",
     "text": [
      "Bad pipe message: %s [b' q=0.9, image/avif, image/webp, image/apng, */*; q=0.8, application/signed-exchange; v=b3; q=0.7\\r\\nHost: loc', b'host:43763\\r\\nUser-Agent: Mozilla/5.0 (Windows NT 10.0; Win64; x64) AppleWebKit/537.36 (KHTML, lik']\n",
      "Bad pipe message: %s [b'Gecko) Chrome/140.0.0.0 Safari/537.36 Edg/140.0.0.0\\r\\nAccept-Encoding: gzip, deflate, br, zstd\\r\\nAccep']\n",
      "Bad pipe message: %s [b'Language: en-US, en; q=0.9, en-IE; q=0.8, pt-BR; q=0.7, pt; q=0.6, en-GB; q=0.5\\r\\nCache-Control: max-age=0\\r\\nReferer:', b'ttps://laughing-sniffle-jxjv9qx']\n",
      "Bad pipe message: %s [b'qqcjgpq.github.dev/\\r\\nX-Request-ID: dbd5e2de88a4cb9303428bcf89c582e3\\r\\nX-Real-IP: 10.241.0.36\\r\\nX-Forward', b'-Port: 443\\r\\nX-Forwarded-Scheme: https\\r\\nX-Original-URI: /\\r\\nX-Scheme: https\\r\\nDNT: 1\\r\\nsec-fetch-site: s']\n",
      "Bad pipe message: %s [b'e-site\\r\\nsec-fetch-mode: navigate\\r\\nsec-fetch-dest: document\\r\\nsec-ch-ua: \"Chromium\";v=\"140\", \"Not=', b'Brand\";v=\"24\", \"Microsoft Edge\";v=\"140\"\\r\\nsec-ch-ua-mobile: ?0\\r\\ns', b'-ch-ua-platform: \"Windows\"\\r\\npriority: u=0, i\\r\\nx-original-proto: https\\r\\nX-Forwarded-Proto: https\\r\\nX-F', b'warded-Host: laughing-sniffle-jxjv9qxgwqqcjgpq-43763.app.github.dev\\r\\nX-Forwarded-For: 193.1.57.1\\r\\nProxy-Connec']\n",
      "Bad pipe message: %s [b' q=0.9, image/avif, image/webp, image/apng, */*; q=0.8, application/signed-exchange; v=b3; q=0.7\\r\\nHost: loc', b'host:43763\\r\\nUser-Agent: Mozilla/5.0 (Windows NT 10.0; Win64; x64) AppleWebKit/537.36 (KHTML, lik']\n",
      "Bad pipe message: %s [b'Gecko) Chrome/140.0.0.0 Safari/537.36 Edg/140.0.0.0\\r\\nAccept-Encoding: gzip, deflate, br, zstd\\r\\nAccep']\n",
      "Bad pipe message: %s [b'Language: en-US, en; q=0.9, en-IE; q=0.8, pt-BR; q=0.7, pt; q=0.6, en-GB; q=0.5\\r\\nCache-Control: max-age=0\\r\\nReferer:', b'ttps://laughing-sniffle-jxjv9qx']\n",
      "Bad pipe message: %s [b'qqcjgpq.github.dev/\\r\\nX-Request-ID: ba2282a2463d6bb49cee83f7a4fc9ae3\\r\\nX-Real-IP: 10.241.0.36\\r\\nX-Forward', b'-Port: 443\\r\\nX-Forwarded-Scheme: https\\r\\nX-Original-URI: /\\r\\nX-Scheme: https\\r\\nDNT: 1\\r\\nsec-fetch-site: s']\n",
      "Bad pipe message: %s [b'e-site\\r\\nsec-fetch-mode: navigate\\r\\nsec-fetch-dest: document\\r\\nsec-ch-ua: \"Chromium\";v=\"140\", \"Not=', b'Brand\";v=\"24\", \"Microsoft Edge\";v=\"140\"\\r\\nsec-ch-ua-mobile: ?0\\r\\ns', b'-ch-ua-platform: \"Windows\"\\r\\npriority: u=0, i\\r\\nx-original-proto: https\\r\\nX-Forwarded-Proto: https\\r\\nX-F', b'warded-Host: laughing-sniffle-jxjv9qxgwqqcjgpq-43763.app.github.dev\\r\\nX-Forwarded-For: 193.1.57.1\\r\\nProxy-Connec']\n"
     ]
    }
   ],
   "source": [
    "def Parity(x, y, z):\n",
    "    x = np.int32(x)\n",
    "    y = np.int32(y)\n",
    "    z = np.int32(z)\n",
    "    return np.uint32(x ^ y ^ z)\n",
    "\n",
    "\n",
    "def Ch(x,y,z):\n",
    "    x = np.int32(x)\n",
    "    y = np.int32(y)\n",
    "    z = np.int32(z)\n",
    "    return np.uint32((x & y) ^ (~x & z))\n",
    "\n",
    "\n",
    "def Maj(x,y,z):\n",
    "    x = np.int32(x)\n",
    "    y = np.int32(y)\n",
    "    z = np.int32(z)\n",
    "    return np.uint32((x & y) ^ (x & z) ^ (y & z))\n",
    "\n",
    "\n",
    "\n"
   ]
  },
  {
   "cell_type": "markdown",
   "id": "dd0e0f66",
   "metadata": {},
   "source": [
    "## Problem 2: Fractional Parts of Cube Roots"
   ]
  },
  {
   "cell_type": "markdown",
   "id": "87e08ce1",
   "metadata": {},
   "source": [
    "## Problem 3: Padding"
   ]
  },
  {
   "cell_type": "markdown",
   "id": "e2b349b0",
   "metadata": {},
   "source": [
    "## Problem 4: Hashes"
   ]
  },
  {
   "cell_type": "markdown",
   "id": "419b3110",
   "metadata": {},
   "source": [
    "## Problem 5: Passwords"
   ]
  },
  {
   "cell_type": "markdown",
   "id": "25d27bf0",
   "metadata": {},
   "source": [
    "## End"
   ]
  }
 ],
 "metadata": {
  "kernelspec": {
   "display_name": "Python 3",
   "language": "python",
   "name": "python3"
  },
  "language_info": {
   "codemirror_mode": {
    "name": "ipython",
    "version": 3
   },
   "file_extension": ".py",
   "mimetype": "text/x-python",
   "name": "python",
   "nbconvert_exporter": "python",
   "pygments_lexer": "ipython3",
   "version": "3.12.1"
  }
 },
 "nbformat": 4,
 "nbformat_minor": 5
}
