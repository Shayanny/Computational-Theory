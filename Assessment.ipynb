{
 "cells": [
  {
   "cell_type": "markdown",
   "id": "0bd69689",
   "metadata": {},
   "source": [
    "Computational Theory"
   ]
  },
  {
   "cell_type": "markdown",
   "id": "36d4eb59",
   "metadata": {},
   "source": [
    "Problem 1"
   ]
  },
  {
   "cell_type": "markdown",
   "id": "dd0e0f66",
   "metadata": {},
   "source": [
    "Problem 2"
   ]
  },
  {
   "cell_type": "markdown",
   "id": "87e08ce1",
   "metadata": {},
   "source": [
    "Problem 3"
   ]
  },
  {
   "cell_type": "markdown",
   "id": "e2b349b0",
   "metadata": {},
   "source": [
    "Problem 4"
   ]
  },
  {
   "cell_type": "markdown",
   "id": "419b3110",
   "metadata": {},
   "source": [
    "Problem 5"
   ]
  },
  {
   "cell_type": "markdown",
   "id": "25d27bf0",
   "metadata": {},
   "source": [
    "End"
   ]
  }
 ],
 "metadata": {
  "language_info": {
   "name": "python"
  }
 },
 "nbformat": 4,
 "nbformat_minor": 5
}
